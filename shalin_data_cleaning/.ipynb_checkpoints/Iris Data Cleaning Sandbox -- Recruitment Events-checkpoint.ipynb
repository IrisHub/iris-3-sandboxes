{
 "cells": [
  {
   "cell_type": "markdown",
   "metadata": {},
   "source": [
    "# Welcome to the Iris Data Cleaning Sandbox!\n",
    "\n",
    "This file provides you a framework with which you can examine data. Here, I provide you with some starter functions along with a guide for some of the things you should be looking for during your research. Duplicate this notebook wherever you need it"
   ]
  },
  {
   "cell_type": "code",
   "execution_count": 45,
   "metadata": {},
   "outputs": [
    {
     "ename": "JSONDecodeError",
     "evalue": "Expecting value: line 1 column 1 (char 0)",
     "output_type": "error",
     "traceback": [
      "\u001b[0;31m---------------------------------------------------------------------------\u001b[0m",
      "\u001b[0;31mJSONDecodeError\u001b[0m                           Traceback (most recent call last)",
      "\u001b[0;32m<ipython-input-45-f7c19ac06eb8>\u001b[0m in \u001b[0;36m<module>\u001b[0;34m\u001b[0m\n\u001b[1;32m      6\u001b[0m                     },\n\u001b[1;32m      7\u001b[0m                     headers={\n\u001b[0;32m----> 8\u001b[0;31m                         \u001b[0;34m'Authorization'\u001b[0m\u001b[0;34m:\u001b[0m\u001b[0;34mf'Bearer {BCOURSES_TOKEN}'\u001b[0m\u001b[0;34m\u001b[0m\u001b[0;34m\u001b[0m\u001b[0m\n\u001b[0m\u001b[1;32m      9\u001b[0m                     }).json()\n\u001b[1;32m     10\u001b[0m \u001b[0;34m\u001b[0m\u001b[0m\n",
      "\u001b[0;32m/usr/local/lib/python3.7/site-packages/requests/models.py\u001b[0m in \u001b[0;36mjson\u001b[0;34m(self, **kwargs)\u001b[0m\n\u001b[1;32m    896\u001b[0m                     \u001b[0;31m# used.\u001b[0m\u001b[0;34m\u001b[0m\u001b[0;34m\u001b[0m\u001b[0;34m\u001b[0m\u001b[0m\n\u001b[1;32m    897\u001b[0m                     \u001b[0;32mpass\u001b[0m\u001b[0;34m\u001b[0m\u001b[0;34m\u001b[0m\u001b[0m\n\u001b[0;32m--> 898\u001b[0;31m         \u001b[0;32mreturn\u001b[0m \u001b[0mcomplexjson\u001b[0m\u001b[0;34m.\u001b[0m\u001b[0mloads\u001b[0m\u001b[0;34m(\u001b[0m\u001b[0mself\u001b[0m\u001b[0;34m.\u001b[0m\u001b[0mtext\u001b[0m\u001b[0;34m,\u001b[0m \u001b[0;34m**\u001b[0m\u001b[0mkwargs\u001b[0m\u001b[0;34m)\u001b[0m\u001b[0;34m\u001b[0m\u001b[0;34m\u001b[0m\u001b[0m\n\u001b[0m\u001b[1;32m    899\u001b[0m \u001b[0;34m\u001b[0m\u001b[0m\n\u001b[1;32m    900\u001b[0m     \u001b[0;34m@\u001b[0m\u001b[0mproperty\u001b[0m\u001b[0;34m\u001b[0m\u001b[0;34m\u001b[0m\u001b[0m\n",
      "\u001b[0;32m/usr/local/Cellar/python/3.7.7/Frameworks/Python.framework/Versions/3.7/lib/python3.7/json/__init__.py\u001b[0m in \u001b[0;36mloads\u001b[0;34m(s, encoding, cls, object_hook, parse_float, parse_int, parse_constant, object_pairs_hook, **kw)\u001b[0m\n\u001b[1;32m    346\u001b[0m             \u001b[0mparse_int\u001b[0m \u001b[0;32mis\u001b[0m \u001b[0;32mNone\u001b[0m \u001b[0;32mand\u001b[0m \u001b[0mparse_float\u001b[0m \u001b[0;32mis\u001b[0m \u001b[0;32mNone\u001b[0m \u001b[0;32mand\u001b[0m\u001b[0;34m\u001b[0m\u001b[0;34m\u001b[0m\u001b[0m\n\u001b[1;32m    347\u001b[0m             parse_constant is None and object_pairs_hook is None and not kw):\n\u001b[0;32m--> 348\u001b[0;31m         \u001b[0;32mreturn\u001b[0m \u001b[0m_default_decoder\u001b[0m\u001b[0;34m.\u001b[0m\u001b[0mdecode\u001b[0m\u001b[0;34m(\u001b[0m\u001b[0ms\u001b[0m\u001b[0;34m)\u001b[0m\u001b[0;34m\u001b[0m\u001b[0;34m\u001b[0m\u001b[0m\n\u001b[0m\u001b[1;32m    349\u001b[0m     \u001b[0;32mif\u001b[0m \u001b[0mcls\u001b[0m \u001b[0;32mis\u001b[0m \u001b[0;32mNone\u001b[0m\u001b[0;34m:\u001b[0m\u001b[0;34m\u001b[0m\u001b[0;34m\u001b[0m\u001b[0m\n\u001b[1;32m    350\u001b[0m         \u001b[0mcls\u001b[0m \u001b[0;34m=\u001b[0m \u001b[0mJSONDecoder\u001b[0m\u001b[0;34m\u001b[0m\u001b[0;34m\u001b[0m\u001b[0m\n",
      "\u001b[0;32m/usr/local/Cellar/python/3.7.7/Frameworks/Python.framework/Versions/3.7/lib/python3.7/json/decoder.py\u001b[0m in \u001b[0;36mdecode\u001b[0;34m(self, s, _w)\u001b[0m\n\u001b[1;32m    335\u001b[0m \u001b[0;34m\u001b[0m\u001b[0m\n\u001b[1;32m    336\u001b[0m         \"\"\"\n\u001b[0;32m--> 337\u001b[0;31m         \u001b[0mobj\u001b[0m\u001b[0;34m,\u001b[0m \u001b[0mend\u001b[0m \u001b[0;34m=\u001b[0m \u001b[0mself\u001b[0m\u001b[0;34m.\u001b[0m\u001b[0mraw_decode\u001b[0m\u001b[0;34m(\u001b[0m\u001b[0ms\u001b[0m\u001b[0;34m,\u001b[0m \u001b[0midx\u001b[0m\u001b[0;34m=\u001b[0m\u001b[0m_w\u001b[0m\u001b[0;34m(\u001b[0m\u001b[0ms\u001b[0m\u001b[0;34m,\u001b[0m \u001b[0;36m0\u001b[0m\u001b[0;34m)\u001b[0m\u001b[0;34m.\u001b[0m\u001b[0mend\u001b[0m\u001b[0;34m(\u001b[0m\u001b[0;34m)\u001b[0m\u001b[0;34m)\u001b[0m\u001b[0;34m\u001b[0m\u001b[0;34m\u001b[0m\u001b[0m\n\u001b[0m\u001b[1;32m    338\u001b[0m         \u001b[0mend\u001b[0m \u001b[0;34m=\u001b[0m \u001b[0m_w\u001b[0m\u001b[0;34m(\u001b[0m\u001b[0ms\u001b[0m\u001b[0;34m,\u001b[0m \u001b[0mend\u001b[0m\u001b[0;34m)\u001b[0m\u001b[0;34m.\u001b[0m\u001b[0mend\u001b[0m\u001b[0;34m(\u001b[0m\u001b[0;34m)\u001b[0m\u001b[0;34m\u001b[0m\u001b[0;34m\u001b[0m\u001b[0m\n\u001b[1;32m    339\u001b[0m         \u001b[0;32mif\u001b[0m \u001b[0mend\u001b[0m \u001b[0;34m!=\u001b[0m \u001b[0mlen\u001b[0m\u001b[0;34m(\u001b[0m\u001b[0ms\u001b[0m\u001b[0;34m)\u001b[0m\u001b[0;34m:\u001b[0m\u001b[0;34m\u001b[0m\u001b[0;34m\u001b[0m\u001b[0m\n",
      "\u001b[0;32m/usr/local/Cellar/python/3.7.7/Frameworks/Python.framework/Versions/3.7/lib/python3.7/json/decoder.py\u001b[0m in \u001b[0;36mraw_decode\u001b[0;34m(self, s, idx)\u001b[0m\n\u001b[1;32m    353\u001b[0m             \u001b[0mobj\u001b[0m\u001b[0;34m,\u001b[0m \u001b[0mend\u001b[0m \u001b[0;34m=\u001b[0m \u001b[0mself\u001b[0m\u001b[0;34m.\u001b[0m\u001b[0mscan_once\u001b[0m\u001b[0;34m(\u001b[0m\u001b[0ms\u001b[0m\u001b[0;34m,\u001b[0m \u001b[0midx\u001b[0m\u001b[0;34m)\u001b[0m\u001b[0;34m\u001b[0m\u001b[0;34m\u001b[0m\u001b[0m\n\u001b[1;32m    354\u001b[0m         \u001b[0;32mexcept\u001b[0m \u001b[0mStopIteration\u001b[0m \u001b[0;32mas\u001b[0m \u001b[0merr\u001b[0m\u001b[0;34m:\u001b[0m\u001b[0;34m\u001b[0m\u001b[0;34m\u001b[0m\u001b[0m\n\u001b[0;32m--> 355\u001b[0;31m             \u001b[0;32mraise\u001b[0m \u001b[0mJSONDecodeError\u001b[0m\u001b[0;34m(\u001b[0m\u001b[0;34m\"Expecting value\"\u001b[0m\u001b[0;34m,\u001b[0m \u001b[0ms\u001b[0m\u001b[0;34m,\u001b[0m \u001b[0merr\u001b[0m\u001b[0;34m.\u001b[0m\u001b[0mvalue\u001b[0m\u001b[0;34m)\u001b[0m \u001b[0;32mfrom\u001b[0m \u001b[0;32mNone\u001b[0m\u001b[0;34m\u001b[0m\u001b[0;34m\u001b[0m\u001b[0m\n\u001b[0m\u001b[1;32m    356\u001b[0m         \u001b[0;32mreturn\u001b[0m \u001b[0mobj\u001b[0m\u001b[0;34m,\u001b[0m \u001b[0mend\u001b[0m\u001b[0;34m\u001b[0m\u001b[0;34m\u001b[0m\u001b[0m\n",
      "\u001b[0;31mJSONDecodeError\u001b[0m: Expecting value: line 1 column 1 (char 0)"
     ]
    }
   ],
   "source": [
    "BCOURSES_TOKEN = \"1072~qfkGSqPPbCLghwUK8joSpNcwW6HeiBPav48c8gYlTfxGqVgNm1uP2Z2LF7EXbBxR\"\n",
    "data = requests.get('https://bcourses.berkeley.edu/feeds/calendars/course_HPxG4fV8ycE8FE7tzQUaTmeFidVQq9a2lNoWHufG.ics', \n",
    "                    params = {\n",
    "                        'type':'assignment',\n",
    "                        'start_date':'2017-08-01'\n",
    "                    },\n",
    "                    headers={\n",
    "                        'Authorization':f'Bearer {BCOURSES_TOKEN}'\n",
    "                    })\n",
    "\n",
    "print(data.text)"
   ]
  },
  {
   "cell_type": "code",
   "execution_count": 33,
   "metadata": {},
   "outputs": [
    {
     "name": "stdout",
     "output_type": "stream",
     "text": [
      "{'success': True, 'events': [{'id': 529788, 'type': 'Event', 'name': 'JPMC Commercial Banking and Asset & Wealth Management Joint California Education Session', 'start_date': '2020-08-04T12:00:00.000-07:00', 'end_date': '2020-08-04T15:00:00.000-07:00'}, {'id': 521528, 'type': 'Event', 'name': 'Charles River Associates Connect Event', 'start_date': '2020-07-28T18:00:00.000-07:00', 'end_date': '2020-07-28T19:15:00.000-07:00'}, {'id': 506465, 'type': 'Event', 'name': \"McKinsey's Freshman Diversity Leadership Academy 2020\", 'start_date': '2020-08-06T06:00:00.000-07:00', 'end_date': '2020-08-08T14:00:00.000-07:00'}, {'id': 515022, 'type': 'Event', 'name': \"2020 Corporate & Strategy Women's Summit \", 'start_date': '2020-07-29T10:00:00.000-07:00', 'end_date': '2020-07-29T15:00:00.000-07:00'}, {'id': 529806, 'type': 'Event', 'name': 'JPMC Commercial Banking Midwest Information Session', 'start_date': '2020-08-06T09:00:00.000-07:00', 'end_date': '2020-08-06T11:00:00.000-07:00'}, {'id': 518081, 'type': 'Event', 'name': 'Altamont Capital Partner Summer Virtual Information Session', 'start_date': '2020-07-30T17:00:00.000-07:00', 'end_date': '2020-07-30T18:30:00.000-07:00'}, {'id': 532612, 'type': 'Event', 'name': 'Schlumberger Insights: Building Your Brand', 'start_date': '2020-08-04T10:00:00.000-07:00', 'end_date': '2020-08-04T11:00:00.000-07:00'}, {'id': 529807, 'type': 'Event', 'name': 'JPMC Commercial Banking South Information Session', 'start_date': '2020-08-11T10:00:00.000-07:00', 'end_date': '2020-08-11T12:00:00.000-07:00'}, {'id': 530186, 'type': 'Event', 'name': 'GE Uncovered:  Early Career Roundtable', 'start_date': '2020-08-05T14:30:00.000-07:00', 'end_date': '2020-08-05T15:15:00.000-07:00'}, {'id': 528407, 'type': 'Event', 'name': 'JPMC Commercial Banking Northeast Information Session', 'start_date': '2020-08-10T09:00:00.000-07:00', 'end_date': '2020-08-10T11:00:00.000-07:00'}, {'id': 534611, 'type': 'Event', 'name': '2021 Virtual Career Information Session –  Asia', 'start_date': '2020-08-11T18:00:00.000-07:00', 'end_date': '2020-08-19T03:00:00.000-07:00'}, {'id': 524790, 'type': 'Event', 'name': 'Career Connections: Consulting and Business Development (Virtual)', 'start_date': '2020-08-27T17:00:00.000-07:00', 'end_date': '2020-08-27T19:00:00.000-07:00'}, {'id': 544025, 'type': 'Event', 'name': 'Florian Fridays: Cracking the Consulting Case Interview ', 'start_date': '2020-08-21T16:00:00.000-07:00', 'end_date': '2020-08-21T17:00:00.000-07:00'}, {'id': 529904, 'type': 'Event', 'name': \"Let's Talk Cyber! \", 'start_date': '2020-08-05T11:00:00.000-07:00', 'end_date': '2020-08-05T12:00:00.000-07:00'}, {'id': 545704, 'type': 'Event', 'name': 'Prudential Private Capital Info Session: Full-time & Summer Investment Analysts', 'start_date': '2020-08-31T15:00:00.000-07:00', 'end_date': '2020-08-31T16:30:00.000-07:00'}, {'id': 529909, 'type': 'Event', 'name': 'JPMC Commercial Banking Deep Dive Information Session', 'start_date': '2020-08-14T09:00:00.000-07:00', 'end_date': '2020-08-14T12:00:00.000-07:00'}, {'id': 534850, 'type': 'Event', 'name': 'KP Summer Speaker Series: Candidate Conversation on Equity, Inclusion & Diversity', 'start_date': '2020-08-18T12:00:00.000-07:00', 'end_date': '2020-08-18T13:00:00.000-07:00'}, {'id': 534125, 'type': 'Event', 'name': 'KP NCAL Administrative Fellowship Webinar', 'start_date': '2020-08-14T15:00:00.000-07:00', 'end_date': '2020-08-14T16:00:00.000-07:00'}, {'id': 544121, 'type': 'Event', 'name': \"Friday's with KPMG | Complete Your Profile: Winning Resumes\", 'start_date': '2020-08-28T13:00:00.000-07:00', 'end_date': '2020-08-28T14:00:00.000-07:00'}, {'id': 534166, 'type': 'Event', 'name': 'Finding The Job You Love: Texas Instruments Mini Series', 'start_date': '2020-08-10T17:00:00.000-07:00', 'end_date': '2020-08-13T18:30:00.000-07:00'}, {'id': 534713, 'type': 'Event', 'name': 'Landing a Startup Job with VFA!', 'start_date': '2020-08-19T14:00:00.000-07:00', 'end_date': '2020-08-19T15:00:00.000-07:00'}, {'id': 547579, 'type': 'Event', 'name': 'Café con Leche: Latinx at Gap Inc.', 'start_date': '2020-09-01T13:00:00.000-07:00', 'end_date': '2020-09-01T14:00:00.000-07:00'}, {'id': 534653, 'type': 'Event', 'name': 'Venture For America 101', 'start_date': '2020-08-12T14:00:00.000-07:00', 'end_date': '2020-08-12T15:00:00.000-07:00'}, {'id': 547645, 'type': 'Event', 'name': 'Accenture West Location Session ', 'start_date': '2020-09-03T17:00:00.000-07:00', 'end_date': '2020-09-03T17:00:00.000-07:00'}, {'id': 533257, 'type': 'Event', 'name': 'Engineering/Tech Career Conference Alumni Panel', 'start_date': '2020-09-04T12:30:00.000-07:00', 'end_date': '2020-09-04T14:00:00.000-07:00'}, {'id': 533251, 'type': 'Event', 'name': 'Engineering/Tech Career Conference Behavioral Interview Workshop', 'start_date': '2020-09-03T15:00:00.000-07:00', 'end_date': '2020-09-03T16:00:00.000-07:00'}, {'id': 529785, 'type': 'Event', 'name': 'JPMC Commercial Banking and Asset & Wealth Management Joint Southeast Education Session', 'start_date': '2020-08-03T09:00:00.000-07:00', 'end_date': '2020-08-03T12:00:00.000-07:00'}, {'id': 534243, 'type': 'Event', 'name': 'The Melanin Table: Conversations & Connections at Gap Inc.', 'start_date': '2020-09-02T13:00:00.000-07:00', 'end_date': '2020-09-02T14:00:00.000-07:00'}, {'id': 534582, 'type': 'Event', 'name': 'International Students: Navigate the Job Search as an International Student', 'start_date': '2020-09-01T17:00:00.000-07:00', 'end_date': '2020-09-01T18:00:00.000-07:00'}, {'id': 533259, 'type': 'Event', 'name': 'Engineering/Tech Career Conference Job Search Tips for International Students Workshop', 'start_date': '2020-09-04T14:15:00.000-07:00', 'end_date': '2020-09-04T15:15:00.000-07:00'}, {'id': 533263, 'type': 'Event', 'name': 'Gap Inc. Rotational Management Program Recent Grad Panel', 'start_date': '2020-08-06T13:00:00.000-07:00', 'end_date': '2020-08-06T13:45:00.000-07:00'}, {'id': 534176, 'type': 'Event', 'name': 'Gap Inc. Knowing Your Customer in Todays World', 'start_date': '2020-08-13T14:00:00.000-07:00', 'end_date': '2020-08-13T15:00:00.000-07:00'}, {'id': 547609, 'type': 'Event', 'name': 'Accenture Location Session- South ', 'start_date': '2020-09-01T16:00:00.000-07:00', 'end_date': '2020-09-01T17:00:00.000-07:00'}, {'id': 528313, 'type': 'Event', 'name': 'Florian Fridays: Building a Successful Career in Investment Banking (Madeleine McCarthy)', 'start_date': '2020-07-31T16:00:00.000-07:00', 'end_date': '2020-07-31T17:00:00.000-07:00'}, {'id': 534774, 'type': 'Event', 'name': 'Leveraging Your Identity in Entrepreneurship, Business, and Tech', 'start_date': '2020-08-26T14:00:00.000-07:00', 'end_date': '2020-08-26T15:00:00.000-07:00'}, {'id': 528301, 'type': 'Event', 'name': 'Florian Fridays: Leading the Reddit Redesign (Andreas Gross)', 'start_date': '2020-08-07T16:00:00.000-07:00', 'end_date': '2020-08-07T17:00:00.000-07:00'}, {'id': 533311, 'type': 'Event', 'name': 'The Academic Job Search II - Sciences + Engineering ', 'start_date': '2020-08-26T16:00:00.000-07:00', 'end_date': '2020-08-26T17:15:00.000-07:00'}, {'id': 529801, 'type': 'Event', 'name': 'JPMC Commercial Banking and Asset & Wealth Management Joint Pacific Northwest & Intermountain Education Session', 'start_date': '2020-08-05T12:00:00.000-07:00', 'end_date': '2020-08-05T15:00:00.000-07:00'}, {'id': 547623, 'type': 'Event', 'name': 'Accenture Northeast Location Session ', 'start_date': '2020-08-31T14:00:00.000-07:00', 'end_date': '2020-08-31T15:00:00.000-07:00'}, {'id': 534832, 'type': 'Event', 'name': 'Pace Harmon Information Session', 'start_date': '2020-08-31T19:00:00.000-07:00', 'end_date': '2020-08-31T20:30:00.000-07:00'}, {'id': 547632, 'type': 'Event', 'name': 'Accenture Midwest Location Session ', 'start_date': '2020-09-02T14:00:00.000-07:00', 'end_date': '2020-09-02T15:00:00.000-07:00'}, {'id': 528463, 'type': 'Event', 'name': 'Meet McKinsey Middle East Office', 'start_date': '2020-08-16T08:30:00.000-07:00', 'end_date': '2020-08-16T09:30:00.000-07:00'}, {'id': 534215, 'type': 'Event', 'name': 'Gap Inc. Executives: Growing your career at Gap Inc', 'start_date': '2020-08-18T12:00:00.000-07:00', 'end_date': '2020-08-18T13:00:00.000-07:00'}, {'id': 528509, 'type': 'Event', 'name': 'L.E.K. Company Presentation - Berkeley', 'start_date': '2020-09-04T15:00:00.000-07:00', 'end_date': '2020-09-04T17:00:00.000-07:00'}, {'id': 534226, 'type': 'Event', 'name': 'Dress for Success with Gap Inc.', 'start_date': '2020-08-25T12:00:00.000-07:00', 'end_date': '2020-08-25T13:00:00.000-07:00'}, {'id': 534232, 'type': 'Event', 'name': 'Leading the Way: The Path to Corporate Retail', 'start_date': '2020-08-27T13:00:00.000-07:00', 'end_date': '2020-08-27T14:00:00.000-07:00'}, {'id': 533310, 'type': 'Event', 'name': 'The Academic Job Search I - The Sciences + Engineering', 'start_date': '2020-08-19T16:00:00.000-07:00', 'end_date': '2020-08-19T17:15:00.000-07:00'}, {'id': 533313, 'type': 'Event', 'name': 'The Academic Job Search III - Sciences + Engineering', 'start_date': '2020-09-02T16:00:00.000-07:00', 'end_date': '2020-09-02T17:15:00.000-07:00'}, {'id': 531551, 'type': 'Event', 'name': 'Fall Recruiting Kickoff for L&S and CNR Majors (Virtual) ', 'start_date': '2020-08-26T17:30:00.000-07:00', 'end_date': '2020-08-26T19:00:00.000-07:00'}, {'id': 533319, 'type': 'Event', 'name': 'Career Services workshop for Social Welfare students and alumni', 'start_date': '2020-07-28T18:30:00.000-07:00', 'end_date': '2020-07-28T19:30:00.000-07:00'}, {'id': 531579, 'type': 'Event', 'name': 'AlphaSights Virtual Open House Week Presents: How to Leverage Your Athletic Experience in the Hiring Process', 'start_date': '2020-08-13T15:00:00.000-07:00', 'end_date': '2020-08-13T16:00:00.000-07:00'}, {'id': 533753, 'type': 'Event', 'name': 'UC Berkeley | Associate Life @ BCG - Option 1', 'start_date': '2020-09-01T17:00:00.000-07:00', 'end_date': '2020-09-01T18:30:00.000-07:00'}, {'id': 528658, 'type': 'Event', 'name': 'Altamont Capital Partners Information Session', 'start_date': '2020-09-01T17:00:00.000-07:00', 'end_date': '2020-09-01T18:30:00.000-07:00'}, {'id': 531577, 'type': 'Event', 'name': 'AlphaSights Virtual Open House Week Presents: Tips for Virtual Interview Success ', 'start_date': '2020-08-11T15:00:00.000-07:00', 'end_date': '2020-08-11T16:00:00.000-07:00'}, {'id': 530090, 'type': 'Event', 'name': 'Global Connect: Meet McKinsey Asia  - Apply by August 16', 'start_date': '2020-08-16T20:59:00.000-07:00', 'end_date': '2020-08-16T20:59:00.000-07:00'}, {'id': 530410, 'type': 'Event', 'name': 'AlphaSights Virtual Open House Week Presents: Learning Sales & Negotiation', 'start_date': '2020-08-10T15:00:00.000-07:00', 'end_date': '2020-08-10T16:00:00.000-07:00'}, {'id': 531578, 'type': 'Event', 'name': 'AlphaSights Virtual Open House Week Presents: How to Pick a Career Outside of Your Major', 'start_date': '2020-08-12T15:00:00.000-07:00', 'end_date': '2020-08-12T16:00:00.000-07:00'}, {'id': 529669, 'type': 'Event', 'name': 'Career Center Webinar Test', 'start_date': '2020-08-10T14:00:00.000-07:00', 'end_date': '2020-08-10T15:00:00.000-07:00'}, {'id': 549209, 'type': 'Event', 'name': 'Career Center 101 + Identify Your Superpowers: EOP Virtual Event', 'start_date': '2020-09-01T13:00:00.000-07:00', 'end_date': '2020-09-01T14:30:00.000-07:00'}, {'id': 534880, 'type': 'Event', 'name': 'Pre-Health Student: Effective Study Habits During Distance Learning ', 'start_date': '2020-08-17T16:00:00.000-07:00', 'end_date': '2020-08-17T17:00:00.000-07:00'}, {'id': 535153, 'type': 'Event', 'name': 'Eide Bailly 360: An Inside Look at Our Culture', 'start_date': '2020-08-05T10:00:00.000-07:00', 'end_date': '2020-08-05T11:30:00.000-07:00'}, {'id': 548646, 'type': 'Event', 'name': 'Yelping From Home: The Tech Talk Series', 'start_date': '2020-08-27T12:15:00.000-07:00', 'end_date': '2020-08-27T13:00:00.000-07:00'}, {'id': 543454, 'type': 'Event', 'name': 'Accenture Technology & Consulting Lunch and Learn', 'start_date': '2020-08-27T12:30:00.000-07:00', 'end_date': '2020-08-27T13:30:00.000-07:00'}, {'id': 550749, 'type': 'Event', 'name': 'ICONIQ Capital Info Session - UC Berkeley ', 'start_date': '2020-08-31T16:00:00.000-07:00', 'end_date': '2020-08-31T17:00:00.000-07:00'}, {'id': 535850, 'type': 'Event', 'name': 'Engineering/Tech Career Conference Technical Resume Workshop', 'start_date': '2020-09-03T12:15:00.000-07:00', 'end_date': '2020-09-03T13:15:00.000-07:00'}, {'id': 535839, 'type': 'Event', 'name': 'Engineering/Tech Career Conference Welcome and Keynote Speaker', 'start_date': '2020-09-03T11:00:00.000-07:00', 'end_date': '2020-09-03T12:00:00.000-07:00'}, {'id': 535869, 'type': 'Event', 'name': 'Engineering/Tech Career Conference Technical Interview Workshop', 'start_date': '2020-09-03T13:45:00.000-07:00', 'end_date': '2020-09-03T14:45:00.000-07:00'}, {'id': 535878, 'type': 'Event', 'name': 'Engineering/Tech Career Conference Debunking the Hiring Process Workshop', 'start_date': '2020-09-04T11:00:00.000-07:00', 'end_date': '2020-09-04T12:15:00.000-07:00'}, {'id': 535721, 'type': 'Event', 'name': 'Google Presents: A Day in the Life- Intern Panels', 'start_date': '2020-08-11T16:00:00.000-07:00', 'end_date': '2020-08-11T16:30:00.000-07:00'}, {'id': 535573, 'type': 'Event', 'name': 'Fireside Chat with North America Asians At McKinsey Leaders', 'start_date': '2020-08-14T11:00:00.000-07:00', 'end_date': '2020-08-14T12:00:00.000-07:00'}, {'id': 535764, 'type': 'Event', 'name': 'Google Presents: Make the Most of your Conference Experience', 'start_date': '2020-08-17T16:00:00.000-07:00', 'end_date': '2020-08-17T16:30:00.000-07:00'}, {'id': 535786, 'type': 'Event', 'name': 'Google Presents: Building Your Brand', 'start_date': '2020-08-20T16:00:00.000-07:00', 'end_date': '2020-08-20T16:30:00.000-07:00'}, {'id': 535810, 'type': 'Event', 'name': 'Google Presents: Latinx+ Leadership Panel & Latinx+ Intern Panel', 'start_date': '2020-09-01T16:00:00.000-07:00', 'end_date': '2020-09-01T16:30:00.000-07:00'}, {'id': 547599, 'type': 'Event', 'name': 'Accenture Information Session ', 'start_date': '2020-08-26T13:30:00.000-07:00', 'end_date': '2020-08-26T14:30:00.000-07:00'}, {'id': 524985, 'type': 'Event', 'name': 'EY-Parthenon Information Session', 'start_date': '2020-09-01T19:30:00.000-07:00', 'end_date': '2020-09-01T21:30:00.000-07:00'}, {'id': 551944, 'type': 'Event', 'name': 'Berkeley - Prophet Information Session', 'start_date': '2020-09-03T18:30:00.000-07:00', 'end_date': '2020-09-03T19:30:00.000-07:00'}, {'id': 549432, 'type': 'Event', 'name': \"CoC Resumes Do's & Don'ts Workshop featuring professionals from Clorox, Lawrence Livermore National Laboratory, Novartis, SunPower, and P&G\", 'start_date': '2020-09-03T18:30:00.000-07:00', 'end_date': '2020-09-03T20:00:00.000-07:00'}, {'id': 534463, 'type': 'Event', 'name': 'Bain & Company: UC Berkeley Fall Presentation 2020', 'start_date': '2020-08-26T17:00:00.000-07:00', 'end_date': '2020-08-26T18:30:00.000-07:00'}, {'id': 536857, 'type': 'Event', 'name': 'Altman Solon Info Session', 'start_date': '2020-08-25T17:00:00.000-07:00', 'end_date': '2020-08-25T19:00:00.000-07:00'}, {'id': 536977, 'type': 'Event', 'name': 'Transfer Edge/Freshmen Edge Career Services Overview (JB/L&S)', 'start_date': '2020-07-28T15:00:00.000-07:00', 'end_date': '2020-07-28T16:00:00.000-07:00'}, {'id': 536978, 'type': 'Event', 'name': 'Career Services Overview for NavCal (JB/L&S)', 'start_date': '2020-07-29T15:00:00.000-07:00', 'end_date': '2020-07-29T16:00:00.000-07:00'}, {'id': 537041, 'type': 'Event', 'name': 'CoC Virtual Networking Event: Evening with Industry Co-hosted by ACS & Career Center', 'start_date': '2020-09-02T17:00:00.000-07:00', 'end_date': '2020-09-02T18:30:00.000-07:00'}, {'id': 537043, 'type': 'Event', 'name': 'Grad Mapping 2: Planning Your Fall Semester', 'start_date': '2020-08-03T13:30:00.000-07:00', 'end_date': '2020-08-03T15:00:00.000-07:00'}, {'id': 537223, 'type': 'Event', 'name': 'Bank of America GCIB Information Session', 'start_date': '2020-08-25T12:00:00.000-07:00', 'end_date': '2020-08-25T12:45:00.000-07:00'}, {'id': 548188, 'type': 'Event', 'name': 'UBS: Cracking the banking code', 'start_date': '2020-08-26T20:00:00.000-07:00', 'end_date': '2020-08-26T21:00:00.000-07:00'}, {'id': 537687, 'type': 'Event', 'name': \"Friday's with KPMG | Virtual Recruiting: Networking Through the Screen\", 'start_date': '2020-08-14T13:00:00.000-07:00', 'end_date': '2020-08-14T14:00:00.000-07:00'}, {'id': 537864, 'type': 'Event', 'name': 'Altamont Capital Partners Information Session', 'start_date': '2020-09-02T17:00:00.000-07:00', 'end_date': '2020-09-02T18:30:00.000-07:00'}, {'id': 537900, 'type': 'Event', 'name': 'PreCore Career Session: Navigating Virtual Recruiting', 'start_date': '2020-08-07T15:00:00.000-07:00', 'end_date': '2020-08-07T17:00:00.000-07:00'}, {'id': 537922, 'type': 'Event', 'name': 'Academic Job Search for Humanities and Social Sciences  Part 1', 'start_date': '2020-09-02T15:30:00.000-07:00', 'end_date': '2020-09-02T17:00:00.000-07:00'}, {'id': 537921, 'type': 'Event', 'name': \"McKinsey's Marketing & Sales Practice Virtual Info Session\", 'start_date': '2020-09-02T16:00:00.000-07:00', 'end_date': '2020-09-02T17:00:00.000-07:00'}, {'id': 538015, 'type': 'Event', 'name': 'Florian Fridays: Crafting the Ideal Resume', 'start_date': '2020-08-14T16:00:00.000-07:00', 'end_date': '2020-08-14T17:00:00.000-07:00'}, {'id': 538542, 'type': 'Event', 'name': 'EY Assurance & Tax Information Session ', 'start_date': '2020-09-01T11:45:00.000-07:00', 'end_date': '2020-09-01T13:15:00.000-07:00'}, {'id': 538551, 'type': 'Event', 'name': 'EY Consulting Information Session ', 'start_date': '2020-09-01T13:45:00.000-07:00', 'end_date': '2020-09-01T14:45:00.000-07:00'}, {'id': 538550, 'type': 'Event', 'name': 'EY Assurance & Tax Information Session ', 'start_date': '2020-09-01T11:45:00.000-07:00', 'end_date': '2020-09-01T13:15:00.000-07:00'}, {'id': 551052, 'type': 'Event', 'name': \"DSP Career Readiness Network: What's Fair About Career Fairs?\", 'start_date': '2020-09-01T16:00:00.000-07:00', 'end_date': '2020-09-01T17:00:00.000-07:00'}, {'id': 537920, 'type': 'Event', 'name': \"McKinsey's Marketing & Sales Practice Virtual Info Session\", 'start_date': '2020-08-12T16:00:00.000-07:00', 'end_date': '2020-08-12T17:00:00.000-07:00'}, {'id': 538156, 'type': 'Event', 'name': 'Schlumberger Insights: Kick Starting Your Career!', 'start_date': '2020-08-13T10:00:00.000-07:00', 'end_date': '2020-08-13T11:00:00.000-07:00'}, {'id': 539012, 'type': 'Event', 'name': 'JPMorgan Chase & Co. Webinar: Securities Services Leadership Program (SSLP)', 'start_date': '2020-08-18T09:30:00.000-07:00', 'end_date': '2020-08-18T10:30:00.000-07:00'}, {'id': 538645, 'type': 'Event', 'name': 'Self-Authenticity in the FinTech Workplace', 'start_date': '2020-08-26T10:00:00.000-07:00', 'end_date': '2020-08-26T11:00:00.000-07:00'}, {'id': 538515, 'type': 'Event', 'name': 'Berkeley Accenture Strategy Info Session ', 'start_date': '2020-08-31T16:30:00.000-07:00', 'end_date': '2020-08-31T18:00:00.000-07:00'}, {'id': 539595, 'type': 'Event', 'name': 'Academic Job Search Overview', 'start_date': '2020-08-11T13:00:00.000-07:00', 'end_date': '2020-08-11T14:30:00.000-07:00'}, {'id': 540629, 'type': 'Event', 'name': 'UC Berkeley Day in the Life with Deloitte- Audit & Assurance', 'start_date': '2020-08-27T11:15:00.000-07:00', 'end_date': '2020-08-27T12:00:00.000-07:00'}, {'id': 540636, 'type': 'Event', 'name': 'UC Berkeley Day in the Life with Deloitte- Tax', 'start_date': '2020-08-27T12:15:00.000-07:00', 'end_date': '2020-08-27T13:00:00.000-07:00'}, {'id': 540639, 'type': 'Event', 'name': 'UC Berkeley Day in the Life with Deloitte- Risk & Financial Advisory', 'start_date': '2020-08-27T13:15:00.000-07:00', 'end_date': '2020-08-27T14:00:00.000-07:00'}, {'id': 540875, 'type': 'Event', 'name': 'Meet McKinsey’s Hispanic + Latino Network ', 'start_date': '2020-08-18T16:00:00.000-07:00', 'end_date': '2020-08-18T17:00:00.000-07:00'}, {'id': 540877, 'type': 'Event', 'name': 'Meet the McKinsey Black Network ', 'start_date': '2020-08-24T16:00:00.000-07:00', 'end_date': '2020-08-24T17:00:00.000-07:00'}, {'id': 540881, 'type': 'Event', 'name': 'Women at McKinsey', 'start_date': '2020-08-27T16:00:00.000-07:00', 'end_date': '2020-08-27T16:00:00.000-07:00'}, {'id': 540911, 'type': 'Event', 'name': 'Get to Know GE - Option 2', 'start_date': '2020-09-03T14:30:00.000-07:00', 'end_date': '2020-09-03T15:15:00.000-07:00'}, {'id': 545336, 'type': 'Event', 'name': \"Friday's with KPMG | Meet the Interns\", 'start_date': '2020-09-04T11:00:00.000-07:00', 'end_date': '2020-09-04T12:00:00.000-07:00'}, {'id': 541581, 'type': 'Event', 'name': \"Friday's with KPMG | #WomenLeaders\", 'start_date': '2020-08-21T11:00:00.000-07:00', 'end_date': '2020-08-21T12:00:00.000-07:00'}, {'id': 540836, 'type': 'Event', 'name': 'Get to Know GE - Option 1', 'start_date': '2020-08-19T14:30:00.000-07:00', 'end_date': '2020-08-19T15:15:00.000-07:00'}, {'id': 551508, 'type': 'Event', 'name': 'Robinhood General Info Session - UC Berkeley', 'start_date': '2020-08-28T10:00:00.000-07:00', 'end_date': '2020-08-28T11:00:00.000-07:00'}, {'id': 553446, 'type': 'Event', 'name': 'Get to know McKinsey – Spanish Latam', 'start_date': '2020-09-02T17:00:00.000-07:00', 'end_date': '2020-09-02T18:30:00.000-07:00'}, {'id': 542855, 'type': 'Event', 'name': 'Peace Corps Application Workshop', 'start_date': '2020-08-27T15:00:00.000-07:00', 'end_date': '2020-08-27T16:30:00.000-07:00'}, {'id': 542985, 'type': 'Event', 'name': 'Pitching Yourself to Startups', 'start_date': '2020-09-02T14:00:00.000-07:00', 'end_date': '2020-09-02T15:00:00.000-07:00'}], 'career_fair_sessions': [{'id': 20935, 'type': 'CareerFairSession', 'career_fair_id': 16890, 'calendar_name': '2020 Consulting Forum  - 2020 Consulting Forum', 'start_date_time': '2020-09-02T17:00:00.000-07:00', 'end_date_time': '2020-09-02T20:00:00.000-07:00'}, {'id': 21929, 'type': 'CareerFairSession', 'career_fair_id': 17800, 'calendar_name': '2020 Accounting & Professional Services Forum ', 'start_date_time': '2020-09-03T12:00:00.000-07:00', 'end_date_time': '2020-09-03T15:00:00.000-07:00'}], 'interview_slots': [], 'applications': []}\n"
     ]
    }
   ],
   "source": [
    "# HERE'S WHERE YOU CAN DO ALL OF YOUR WORK!\n",
    "# USE THE SIMPLE FUNCTIONS IN THE LATER SECTIONS IF YOU WANT\n",
    "\n",
    "cookies = {\n",
    "    '_ga': 'GA1.2.1227940802.1598051135',\n",
    "    'ajs_anonymous_id': '%22267f1424-e28f-437e-bc96-3557d891bf08%22',\n",
    "    '_gcl_au': '1.1.943321100.1598051136',\n",
    "    '_fbp': 'fb.1.1598051136170.509872858',\n",
    "    'production_auth_token': 'YzRwbnFrbkI3VEZ6bjVQaWhXd0xVcmEzbUdhMXFzdXdNdlJVMDZmZitDU0oyR3lZRlUzbWRySWlUME9oaEhwbS9peitSbFltSUtpMWpsUlZqK05tbGNCOHNEU3cza21ta1R4VGhjaFQ5QlhOYWo4dm9CNVh4NGovdXNLSXZqeEN6eUJ5T2Z0MUZoY0pTTWtLQ2Q0RS93WG05N2ZBYXNxSDVRaXpRQ3ArbFBwbWZsZ3NiR1BEcHppaTlJd2dpTjJNblVWSEErRjFEdmI1NjJ3c3h0UVB1aUsveXJpMDhYNHExSllFRlBRaks1eU9PUDg4WnhlcGU5VWg3bmMrNUVWY1NnOTMvMnEvdGNRZHpmbDh0T0NORDNPMnVYcUpUUUo2ZVFHZXRraU0wTmhPd1VGK2FXcDgvMTdkaWM3U0FmUzhIT01lL0VRSGhnb0EyMVJqRXZkeWNYVTN1S0liZ0RBZ0grUDl4a0R6cnRQbExJUHFyUXVvaHY5K3Q0SWZxVmE4Nk1SMk1hc1k5MGZCeWE5OWY0TXp3dz09LS04T3FpaVYrZmNmQ3V3YStNRTl3QkxBPT0%3D--649b67a9c96c5d973a2e9427ca8aa4549a26cbfd',\n",
    "    'production_js_on': 'true',\n",
    "    'ajs_user_id': '63040',\n",
    "    '_uetvid': 'f05b37e61ffb05be2f3800b173872783',\n",
    "    '_gid': 'GA1.2.1040821352.1598484642',\n",
    "    'QSI_CT': '{\"job-search-preview-impression\":2}',\n",
    "    '_gat': '1',\n",
    "    '_gat_schoolTracker': '1',\n",
    "    '_trajectory_session': 'NFZPa0FsK21jUDY1bkN3TTh5Q2QzSklYZndPTHVpV1NUeURtN244WEZEUXY2SGFSVzVJSzZ3bDM3bTluOHFEZWpDSUtLVFNOOEhZRjJha1F3SDBtL0JPM0dxL3hPbFFuL1AweWdzZTFPZVFja3lBUGhnRUN6UjRmcHNZS0g5VXJ2K0tvdzYrK3g5WGRxdUpZRHpXMHRSd1ZYeHpNUUNYekU4aFVSUVVZSnZka0lOREtHd2w3MHBFbEJxOWpzMHBhSjgyZTN5SUlmYnpYb2lpcWRlQmNYaTAvdW00K3lTR2RLY3JnN1BxYUpxSUd5SW1LcWZ0bHluNnlGaVFYd3B5RzNSQXNGY3VKdWRHeGJ4WlViMG9BQTZRMmNRYU8wOFR6UC9ZUDVRaDNlS009LS1wVnNUM3l4MmlpVVlwWWQzalJOTmZRPT0%3D--6d3ab792f178d6effadf4371b6147d1c27a6c293',\n",
    "}\n",
    "\n",
    "headers = {\n",
    "    'Connection': 'keep-alive',\n",
    "    'Accept': 'application/json, text/javascript, */*; q=0.01',\n",
    "    'X-CSRF-Token': '8KKQDhiXaND2BXWtV5CGgSk3GkUAw6WlE5ch7DdPh29t+vf/WOFB+1iGJE62H9e1+vVqHrhgbgAZjDl5jAhGjQ==',\n",
    "    'X-Requested-With': 'XMLHttpRequest',\n",
    "    'User-Agent': 'Mozilla/5.0 (Macintosh; Intel Mac OS X 10_15_5) AppleWebKit/537.36 (KHTML, like Gecko) Chrome/84.0.4147.135 Safari/537.36',\n",
    "    'Content-Type': 'application/x-www-form-urlencoded; charset=UTF-8',\n",
    "    'Origin': 'https://berkeley.joinhandshake.com',\n",
    "    'Sec-Fetch-Site': 'same-origin',\n",
    "    'Sec-Fetch-Mode': 'cors',\n",
    "    'Sec-Fetch-Dest': 'empty',\n",
    "    'Referer': 'https://berkeley.joinhandshake.com/calendars',\n",
    "    'Accept-Language': 'en-US,en;q=0.9',\n",
    "}\n",
    "\n",
    "data = {\n",
    "  'start_date': '2020-07-26',\n",
    "  'end_date': '2020-09-06'\n",
    "}\n",
    "\n",
    "# response = requests.post('https://berkeley.joinhandshake.com/calendars/fetch.json', headers=headers, cookies=cookies, data=data)\n",
    "data = post_api_json(\"https://berkeley.joinhandshake.com/calendars/fetch.json\", headers=headers, cookies=cookies, data=data)\n",
    "print(data)\n"
   ]
  },
  {
   "cell_type": "code",
   "execution_count": 10,
   "metadata": {},
   "outputs": [
    {
     "ename": "ModuleNotFoundError",
     "evalue": "No module named 'bs4'",
     "output_type": "error",
     "traceback": [
      "\u001b[0;31m---------------------------------------------------------------------------\u001b[0m",
      "\u001b[0;31mModuleNotFoundError\u001b[0m                       Traceback (most recent call last)",
      "\u001b[0;32m<ipython-input-10-6f74790ed6d5>\u001b[0m in \u001b[0;36m<module>\u001b[0;34m\u001b[0m\n\u001b[1;32m      5\u001b[0m \u001b[0;32mimport\u001b[0m \u001b[0mrequests\u001b[0m\u001b[0;34m\u001b[0m\u001b[0;34m\u001b[0m\u001b[0m\n\u001b[1;32m      6\u001b[0m \u001b[0;32mimport\u001b[0m \u001b[0mtime\u001b[0m\u001b[0;34m\u001b[0m\u001b[0;34m\u001b[0m\u001b[0m\n\u001b[0;32m----> 7\u001b[0;31m \u001b[0;32mfrom\u001b[0m \u001b[0mbs4\u001b[0m \u001b[0;32mimport\u001b[0m \u001b[0mBeautifulSoup\u001b[0m\u001b[0;34m\u001b[0m\u001b[0;34m\u001b[0m\u001b[0m\n\u001b[0m\u001b[1;32m      8\u001b[0m \u001b[0;32mfrom\u001b[0m \u001b[0mdatetime\u001b[0m \u001b[0;32mimport\u001b[0m \u001b[0mdatetime\u001b[0m\u001b[0;34m\u001b[0m\u001b[0;34m\u001b[0m\u001b[0m\n\u001b[1;32m      9\u001b[0m \u001b[0;34m\u001b[0m\u001b[0m\n",
      "\u001b[0;31mModuleNotFoundError\u001b[0m: No module named 'bs4'"
     ]
    }
   ],
   "source": [
    "# You probably won't need much more than this\n",
    "import json\n",
    "import os\n",
    "import re\n",
    "import requests\n",
    "import time\n",
    "from bs4 import BeautifulSoup\n",
    "from datetime import datetime\n",
    "\n",
    "# Optional statistics\n",
    "import numpy as np\n",
    "import seaborn as sns\n",
    "import statistics\n",
    "import matplotlib.pyplot as plt\n",
    "from scipy import stats"
   ]
  },
  {
   "cell_type": "markdown",
   "metadata": {},
   "source": [
    "# Appendix: Data Cleaning Guide and Functions\n",
    "## Retrieving Data from a Data Source\n",
    "\n",
    "Most of the data you work with will be in JSON format. This kind of data is usually pretty easy to work with -- it's easy to read, nicely and neatly nested, and you've seen it everywhere. Here's a brief script that gives you a framework for extracting a JSON object as an API response."
   ]
  },
  {
   "cell_type": "code",
   "execution_count": 13,
   "metadata": {},
   "outputs": [],
   "source": [
    "def get_api_json(url, params={}):\n",
    "    \"\"\"Return the JSON object retrieved from a url with optional parameters\"\"\"\n",
    "    try:\n",
    "        obj = requests.get(url, params=params)\n",
    "    except requests.exceptions.RequestException as e:\n",
    "        return SystemExit(e)\n",
    "\n",
    "    try:\n",
    "        data = obj.json()\n",
    "    except:\n",
    "        data = json.loads(obj.text())\n",
    "    \n",
    "    return data"
   ]
  },
  {
   "cell_type": "code",
   "execution_count": 14,
   "metadata": {},
   "outputs": [],
   "source": [
    "def post_api_json(url, params={}, headers={}, cookies={}, data={}):\n",
    "    \"\"\"Return the JSON object retrieved from a url with optional parameters\"\"\"\n",
    "    try:\n",
    "        obj = requests.post(url, params=params, headers=headers, cookies=cookies, data=data)\n",
    "    except requests.exceptions.RequestException as e:\n",
    "        return SystemExit(e)\n",
    "\n",
    "    try:\n",
    "        data = obj.json()\n",
    "    except:\n",
    "        data = json.loads(obj.text())\n",
    "    \n",
    "    return data"
   ]
  },
  {
   "cell_type": "markdown",
   "metadata": {},
   "source": [
    "Sometimes the data you're looking for will be HTML data. This is true when we're dealing with a plain webscrape as opposed to an official or external-facing API. You shouldn't encounter these too often."
   ]
  },
  {
   "cell_type": "code",
   "execution_count": 5,
   "metadata": {},
   "outputs": [],
   "source": [
    "def get_api_html(url):\n",
    "    \"\"\"Return a BeautifulSoup object representing the HTML of a website\"\"\"\n",
    "    try:\n",
    "        obj = requests.get(url)\n",
    "    except requests.exceptions.RequestException as e:\n",
    "        return SystemExit(e)\n",
    "    \n",
    "    soup = BeautifulSoup(obj.content, 'html.parser')\n",
    "    return soup"
   ]
  },
  {
   "cell_type": "markdown",
   "metadata": {},
   "source": [
    "For `BeautifulSoup` you only really need to be concerned with one method -- the `find_all` function, which takes in a string or regular expressions and returns a list of all matches. For instance, `soup.find_all('h3')` returns a list of all `h3` tags in the HTML. Additionally, `soup.find_all(class_='desc_wrap_ck3')` returns a list of all items that match that `class`."
   ]
  },
  {
   "cell_type": "markdown",
   "metadata": {},
   "source": [
    "## REGular EXpressions\n",
    "\n",
    "A lot of times you'll need regex to filter out API results and clean entries dynamically. Regex is supplied to python via the `re` package. A guide to regular expressions can be found at https://www.regular-expressions.info/tutorial.html (the Bible for regex). If you need help with a particular regex just message Kanyes :) \n",
    "\n",
    "There are two functions in particular that you should know how to use -- `re.sub(pattern, str or func, target)` will search for a pattern within a target string and replace it, either with a static string or with a function that can take in the pattern match as an argument.\n",
    "\n",
    "For example, `re.sub(r'\\(.*\\)|\\{.*\\}', \"\", \"hello, (world)\")` will strip out anything in parantheses or brackets from the target string.\n",
    "\n",
    "Likewise, `re.sub(r'([^0-9])', lambda rgx: f\"{rgx.group(1)}\", \"hello 123 world\")` will extract anything that isn't a number (`^[0-9]`) from the target string and substitute the extraction back into the target string, so `\"hello 123 world\"` becomes `\"hello  world\"`."
   ]
  },
  {
   "cell_type": "markdown",
   "metadata": {},
   "source": [
    "## Filtering and Modifying an API response\n",
    "\n",
    "Sometimes, the data within an API response isn't good enough itself -- we might need to add a temporary field in real-time as we're processing an API result. For instance, in the Yummly 28k dataset, we didn't have a flag for diet. While we're examining data and checking if it's good enough for a card, we need a way to create this new diet field within the response temporarily. The following functions allow us to do some basic filtering and modifying of a response.\n",
    "\n",
    "This is most useful when the API returns a collection or list of objects rather than just 1 object -- for instance, a recipes endpoint which returns 100 recipes or a concerts endpoint that returns 20 concerts."
   ]
  },
  {
   "cell_type": "markdown",
   "metadata": {},
   "source": [
    "Adding a temp field is simple enough -- just do something like:\n",
    "```\n",
    "for result in data['results']:\n",
    "    result['new_field'] = function_or_value()\n",
    "```\n",
    "\n",
    "Removing a field is also easy; use\n",
    "```\n",
    "del data['field_to_be_removed']\n",
    "```"
   ]
  },
  {
   "cell_type": "code",
   "execution_count": 6,
   "metadata": {},
   "outputs": [],
   "source": [
    "def extract_field_from_list(l, field_name):\n",
    "    \"\"\"Given a list of dicts, extract a field from each dict\"\"\"\n",
    "    return [e[field_name] for e in l]\n",
    "\n",
    "def filter_list(l, boolexpr):\n",
    "    \"\"\"Filter a list based on a boolean expression\"\"\"\n",
    "    return [e for e in l if boolexpr(e)]\n",
    "\n",
    "def clean_list(l, regexpr):\n",
    "    \"\"\"Given a regex lambda function, clean a particular field in a list of dicts\"\"\"\n",
    "    return [regexpr(e) for e in l]\n",
    "\n",
    "# Example usage: \n",
    "# extract_field_from_list(data['recipes'], 'title')\n",
    "# filter_list(data['recipes'], lambda recipe: recipe['rating'] > 3)\n",
    "# clean_list(data['recipes'], lambda recipe: re.sub(r'([A-Za-z])', lambda rgx: f\"{rgx.group(1)}\", recipe['title']))"
   ]
  },
  {
   "cell_type": "markdown",
   "metadata": {},
   "source": [
    "## Analytics and Information\n",
    "Here are some basic functions that allow you to see the distribution of a certain field in the data. This can be helpful in testing how diverse an API response is, or testing the quality of the response."
   ]
  },
  {
   "cell_type": "code",
   "execution_count": 7,
   "metadata": {},
   "outputs": [],
   "source": [
    "def hist(vals):\n",
    "    \"\"\"Display a histogram for a list `vals` \"\"\"\n",
    "    mean_val = statistics.mean(vals)\n",
    "    print(f\"Mean value: {mean_val}\")\n",
    "    sns.set(color_codes=True)\n",
    "    sns.distplot(vals)\n",
    "    plt.show()\n",
    "\n",
    "def count(vals):\n",
    "    \"\"\"Display a count plot for a list `vals` (categorical data)\"\"\"\n",
    "    sns.set(color_codes=True)\n",
    "    sns.countplot(vals)\n",
    "    plt.show()\n",
    "\n",
    "def percentile(l, item):\n",
    "    \"\"\"find the percentile of an item based on a list\"\"\"\n",
    "    return stats.percentileofscore(l, item)"
   ]
  },
  {
   "cell_type": "markdown",
   "metadata": {},
   "source": [
    "## Save and Load\n",
    "Sometimes you may want to save an API response after you've modified it or load it again later. These functions let you do that."
   ]
  },
  {
   "cell_type": "code",
   "execution_count": 8,
   "metadata": {},
   "outputs": [],
   "source": [
    "def save(filename, data):\n",
    "    \"\"\"Saves a file in the current directory\"\"\"\n",
    "    if not os.path.exists(filename):\n",
    "        open(filename, 'w').close()\n",
    "    \n",
    "    with open(filename, 'r+') as f:\n",
    "        try:\n",
    "            f.seek(0)\n",
    "            f.write(json.dumps(data, indent=4))\n",
    "        except:\n",
    "            f.seek(0)\n",
    "            if type(data) == str:\n",
    "                f.write(data)\n",
    "            else:\n",
    "                print(\"Invalid data type\")\n",
    "                return\n",
    "        f.truncate()\n",
    "\n",
    "def load(filename):\n",
    "    with open(filename, 'r+') as f:\n",
    "        try:\n",
    "            f.seek(0)\n",
    "            data = json.load(f)\n",
    "        except:\n",
    "            f.seek(0)\n",
    "            data = f.read()\n",
    "        return data"
   ]
  },
  {
   "cell_type": "code",
   "execution_count": null,
   "metadata": {},
   "outputs": [],
   "source": []
  }
 ],
 "metadata": {
  "kernelspec": {
   "display_name": "Python 3",
   "language": "python",
   "name": "python3"
  },
  "language_info": {
   "codemirror_mode": {
    "name": "ipython",
    "version": 3
   },
   "file_extension": ".py",
   "mimetype": "text/x-python",
   "name": "python",
   "nbconvert_exporter": "python",
   "pygments_lexer": "ipython3",
   "version": "3.7.7"
  }
 },
 "nbformat": 4,
 "nbformat_minor": 2
}
