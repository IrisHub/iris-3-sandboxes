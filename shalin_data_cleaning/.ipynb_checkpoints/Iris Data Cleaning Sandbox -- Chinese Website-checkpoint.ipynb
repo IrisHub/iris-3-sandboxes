{
 "cells": [
  {
   "cell_type": "markdown",
   "metadata": {},
   "source": [
    "# Welcome to the Iris Data Cleaning Sandbox!\n",
    "\n",
    "This file provides you a framework with which you can examine data. Here, I provide you with some starter functions along with a guide for some of the things you should be looking for during your research. Duplicate this notebook wherever you need it"
   ]
  },
  {
   "cell_type": "code",
   "execution_count": 21,
   "metadata": {},
   "outputs": [],
   "source": [
    "# You probably won't need much more than this\n",
    "import json\n",
    "import os\n",
    "import re\n",
    "import requests\n",
    "import time\n",
    "from bs4 import BeautifulSoup\n",
    "from datetime import datetime\n",
    "\n",
    "# Optional statistics\n",
    "import numpy as np\n",
    "import seaborn as sns\n",
    "import statistics\n",
    "import matplotlib.pyplot as plt\n",
    "from scipy import stats"
   ]
  },
  {
   "cell_type": "code",
   "execution_count": null,
   "metadata": {},
   "outputs": [],
   "source": [
    "# HERE'S WHERE YOU CAN DO ALL OF YOUR WORK!\n",
    "# USE THE SIMPLE FUNCTIONS IN THE LATER SECTIONS IF YOU WANT"
   ]
  },
  {
   "cell_type": "markdown",
   "metadata": {},
   "source": [
    "# Appendix: Data Cleaning Guide and Functions\n",
    "## Retrieving Data from a Data Source\n",
    "\n",
    "Most of the data you work with will be in JSON format. This kind of data is usually pretty easy to work with -- it's easy to read, nicely and neatly nested, and you've seen it everywhere. Here's a brief script that gives you a framework for extracting a JSON object as an API response."
   ]
  },
  {
   "cell_type": "code",
   "execution_count": null,
   "metadata": {},
   "outputs": [],
   "source": [
    "def get_api_json(url, params={}):\n",
    "    \"\"\"Return the JSON object retrieved from a url with optional parameters\"\"\"\n",
    "    try:\n",
    "        obj = requests.get(url, params=params)\n",
    "    except requests.exceptions.RequestException as e:\n",
    "        return SystemExit(e)\n",
    "\n",
    "    try:\n",
    "        data = obj.json()\n",
    "    except:\n",
    "        data = json.loads(obj.text())\n",
    "    \n",
    "    return data"
   ]
  },
  {
   "cell_type": "markdown",
   "metadata": {},
   "source": [
    "Sometimes the data you're looking for will be HTML data. This is true when we're dealing with a plain webscrape as opposed to an official or external-facing API. You shouldn't encounter these too often."
   ]
  },
  {
   "cell_type": "code",
   "execution_count": 15,
   "metadata": {},
   "outputs": [],
   "source": [
    "def get_api_html(url):\n",
    "    \"\"\"Return a BeautifulSoup object representing the HTML of a website\"\"\"\n",
    "    try:\n",
    "        obj = requests.get(url)\n",
    "    except requests.exceptions.RequestException as e:\n",
    "        return SystemExit(e)\n",
    "    \n",
    "    soup = BeautifulSoup(obj.content, 'html.parser')\n",
    "    return soup"
   ]
  },
  {
   "cell_type": "markdown",
   "metadata": {},
   "source": [
    "For `BeautifulSoup` you only really need to be concerned with one method -- the `find_all` function, which takes in a string or regular expressions and returns a list of all matches. For instance, `soup.find_all('h3')` returns a list of all `h3` tags in the HTML. Additionally, `soup.find_all(class_='desc_wrap_ck3')` returns a list of all items that match that `class`."
   ]
  },
  {
   "cell_type": "markdown",
   "metadata": {},
   "source": [
    "## REGular EXpressions\n",
    "\n",
    "A lot of times you'll need regex to filter out API results and clean entries dynamically. Regex is supplied to python via the `re` package. A guide to regular expressions can be found at https://www.regular-expressions.info/tutorial.html (the Bible for regex). If you need help with a particular regex just message Kanyes :) \n",
    "\n",
    "There are two functions in particular that you should know how to use -- `re.sub(pattern, str or func, target)` will search for a pattern within a target string and replace it, either with a static string or with a function that can take in the pattern match as an argument.\n",
    "\n",
    "For example, `re.sub(r'\\(.*\\)|\\{.*\\}', \"\", \"hello, (world)\")` will strip out anything in parantheses or brackets from the target string.\n",
    "\n",
    "Likewise, `re.sub(r'([^0-9])', lambda rgx: f\"{rgx.group(1)}\", \"hello 123 world\")` will extract anything that isn't a number (`^[0-9]`) from the target string and substitute the extraction back into the target string, so `\"hello 123 world\"` becomes `\"hello  world\"`."
   ]
  },
  {
   "cell_type": "markdown",
   "metadata": {},
   "source": [
    "## Filtering and Modifying an API response\n",
    "\n",
    "Sometimes, the data within an API response isn't good enough itself -- we might need to add a temporary field in real-time as we're processing an API result. For instance, in the Yummly 28k dataset, we didn't have a flag for diet. While we're examining data and checking if it's good enough for a card, we need a way to create this new diet field within the response temporarily. The following functions allow us to do some basic filtering and modifying of a response.\n",
    "\n",
    "This is most useful when the API returns a collection or list of objects rather than just 1 object -- for instance, a recipes endpoint which returns 100 recipes or a concerts endpoint that returns 20 concerts."
   ]
  },
  {
   "cell_type": "markdown",
   "metadata": {},
   "source": [
    "Adding a temp field is simple enough -- just do something like:\n",
    "```\n",
    "for result in data['results']:\n",
    "    result['new_field'] = function_or_value()\n",
    "```\n",
    "\n",
    "Removing a field is also easy; use\n",
    "```\n",
    "del data['field_to_be_removed']\n",
    "```"
   ]
  },
  {
   "cell_type": "code",
   "execution_count": 18,
   "metadata": {},
   "outputs": [],
   "source": [
    "def extract_field_from_list(l, field_name):\n",
    "    \"\"\"Given a list of dicts, extract a field from each dict\"\"\"\n",
    "    return [e[field_name] for e in l]\n",
    "\n",
    "def filter_list(l, boolexpr):\n",
    "    \"\"\"Filter a list based on a boolean expression\"\"\"\n",
    "    return [e for e in l if boolexpr(e)]\n",
    "\n",
    "def clean_list(l, regexpr):\n",
    "    \"\"\"Given a regex lambda function, clean a particular field in a list of dicts\"\"\"\n",
    "    return [regexpr(e) for e in l]\n",
    "\n",
    "# Example usage: \n",
    "# extract_field_from_list(data['recipes'], 'title')\n",
    "# filter_list(data['recipes'], lambda recipe: recipe['rating'] > 3)\n",
    "# clean_list(data['recipes'], lambda recipe: re.sub(r'([A-Za-z])', lambda rgx: f\"{rgx.group(1)}\", recipe['title']))"
   ]
  },
  {
   "cell_type": "markdown",
   "metadata": {},
   "source": [
    "## Analytics and Information\n",
    "Here are some basic functions that allow you to see the distribution of a certain field in the data. This can be helpful in testing how diverse an API response is, or testing the quality of the response."
   ]
  },
  {
   "cell_type": "code",
   "execution_count": 23,
   "metadata": {},
   "outputs": [],
   "source": [
    "def hist(vals):\n",
    "    \"\"\"Display a histogram for a list `vals` \"\"\"\n",
    "    mean_val = statistics.mean(vals)\n",
    "    print(f\"Mean value: {mean_val}\")\n",
    "    sns.set(color_codes=True)\n",
    "    sns.distplot(vals)\n",
    "    plt.show()\n",
    "\n",
    "def count(vals):\n",
    "    \"\"\"Display a count plot for a list `vals` (categorical data)\"\"\"\n",
    "    sns.set(color_codes=True)\n",
    "    sns.countplot(vals)\n",
    "    plt.show()\n",
    "\n",
    "def percentile(l, item):\n",
    "    \"\"\"find the percentile of an item based on a list\"\"\"\n",
    "    return stats.percentileofscore(l, item)"
   ]
  },
  {
   "cell_type": "markdown",
   "metadata": {},
   "source": [
    "## Save and Load\n",
    "Sometimes you may want to save an API response after you've modified it or load it again later. These functions let you do that."
   ]
  },
  {
   "cell_type": "code",
   "execution_count": 25,
   "metadata": {},
   "outputs": [],
   "source": [
    "def save(filename, data):\n",
    "    \"\"\"Saves a file in the current directory\"\"\"\n",
    "    if not os.path.exists(filename):\n",
    "        open(filename, 'w').close()\n",
    "    \n",
    "    with open(filename, 'r+') as f:\n",
    "        try:\n",
    "            f.seek(0)\n",
    "            f.write(json.dumps(data, indent=4))\n",
    "        except:\n",
    "            f.seek(0)\n",
    "            if type(data) == str:\n",
    "                f.write(data)\n",
    "            else:\n",
    "                print(\"Invalid data type\")\n",
    "                return\n",
    "        f.truncate()\n",
    "\n",
    "def load(filename):\n",
    "    with open(filename, 'r+') as f:\n",
    "        try:\n",
    "            f.seek(0)\n",
    "            data = json.load(f)\n",
    "        except:\n",
    "            f.seek(0)\n",
    "            data = f.read()\n",
    "        return data"
   ]
  },
  {
   "cell_type": "code",
   "execution_count": null,
   "metadata": {},
   "outputs": [],
   "source": []
  }
 ],
 "metadata": {
  "kernelspec": {
   "display_name": "Python 3",
   "language": "python",
   "name": "python3"
  },
  "language_info": {
   "codemirror_mode": {
    "name": "ipython",
    "version": 3
   },
   "file_extension": ".py",
   "mimetype": "text/x-python",
   "name": "python",
   "nbconvert_exporter": "python",
   "pygments_lexer": "ipython3",
   "version": "3.7.7"
  }
 },
 "nbformat": 4,
 "nbformat_minor": 2
}
